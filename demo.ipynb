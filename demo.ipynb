{
 "cells": [
  {
   "cell_type": "code",
   "execution_count": 4,
   "metadata": {},
   "outputs": [
    {
     "name": "stderr",
     "output_type": "stream",
     "text": [
      "  0%|          | 0/524 [00:00<?, ?it/s]"
     ]
    },
    {
     "name": "stderr",
     "output_type": "stream",
     "text": [
      "100%|██████████| 524/524 [00:00<00:00, 897.75it/s]\n",
      "100%|██████████| 780/780 [00:00<00:00, 894.97it/s]\n"
     ]
    },
    {
     "name": "stdout",
     "output_type": "stream",
     "text": [
      "Train data: torch.Size([1304, 6, 12, 2500]) target: torch.Size([1304])\n",
      "Weighted Loss) Negative: 0.60 Positive: 0.40\n"
     ]
    },
    {
     "name": "stderr",
     "output_type": "stream",
     "text": [
      "100%|██████████| 132/132 [00:00<00:00, 947.34it/s]"
     ]
    },
    {
     "name": "stdout",
     "output_type": "stream",
     "text": [
      "Test data: torch.Size([132, 6, 12, 2500]) target: torch.Size([132])"
     ]
    },
    {
     "name": "stderr",
     "output_type": "stream",
     "text": [
      "\n"
     ]
    },
    {
     "name": "stdout",
     "output_type": "stream",
     "text": [
      "\n",
      "TRAINING FROM SCRATCH!\n",
      "model name:vit_B\n",
      "dataset:cad\n",
      "device:cuda\n",
      "Tensorboard:False\n",
      "Total parameter:66,778,882\n",
      "angio vit_angio\n",
      "(001/100) Train Loss:-1.0000 Test Loss:0.9553 Test Accuracy:0.5152% Balanced Test Accuracy:0.5936% Sensitivity:0.4673 specificity:0.7200 f1:0.6098 AUROC:0.5781\n",
      "angio vit_cad\n",
      "(001/100) Train Loss:-1.0000 Test Loss:0.9818 Test Accuracy:0.7197% Balanced Test Accuracy:0.5819% Sensitivity:0.8037 specificity:0.3600 f1:0.8230 AUROC:0.5854\n",
      "angio vit_whole\n",
      "(001/100) Train Loss:-1.0000 Test Loss:4.7380 Test Accuracy:0.4545% Balanced Test Accuracy:0.4796% Sensitivity:0.4393 specificity:0.5200 f1:0.5663 AUROC:0.4499\n"
     ]
    },
    {
     "name": "stderr",
     "output_type": "stream",
     "text": [
      "100%|██████████| 524/524 [00:00<00:00, 923.21it/s]\n",
      "100%|██████████| 780/780 [00:00<00:00, 904.33it/s]\n"
     ]
    },
    {
     "name": "stdout",
     "output_type": "stream",
     "text": [
      "Train data: torch.Size([1304, 6, 12, 2500]) target: torch.Size([1304])\n",
      "Weighted Loss) Negative: 0.60 Positive: 0.40\n"
     ]
    },
    {
     "name": "stderr",
     "output_type": "stream",
     "text": [
      "100%|██████████| 132/132 [00:00<00:00, 927.49it/s]\n",
      "100%|██████████| 195/195 [00:00<00:00, 911.07it/s]\n"
     ]
    },
    {
     "name": "stdout",
     "output_type": "stream",
     "text": [
      "Test data: torch.Size([327, 6, 12, 2500]) target: torch.Size([327])\n",
      "TRAINING FROM SCRATCH!\n",
      "model name:vit_B\n",
      "dataset:cad\n",
      "device:cuda\n",
      "Tensorboard:False\n",
      "Total parameter:66,778,882\n",
      "cad vit_angio\n",
      "(001/100) Train Loss:-1.0000 Test Loss:2.1145 Test Accuracy:0.5719% Balanced Test Accuracy:0.5292% Sensitivity:0.2446 specificity:0.8138 f1:0.3269 AUROC:0.5132\n",
      "cad vit_cad\n",
      "(001/100) Train Loss:-1.0000 Test Loss:0.6371 Test Accuracy:0.5780% Balanced Test Accuracy:0.5542% Sensitivity:0.3957 specificity:0.7128 f1:0.4435 AUROC:0.5634\n",
      "cad vit_whole\n",
      "(001/100) Train Loss:-1.0000 Test Loss:2.2077 Test Accuracy:0.6330% Balanced Test Accuracy:0.6171% Sensitivity:0.5108 specificity:0.7234 f1:0.5420 AUROC:0.6396\n"
     ]
    },
    {
     "name": "stderr",
     "output_type": "stream",
     "text": [
      "100%|██████████| 524/524 [00:00<00:00, 898.69it/s]\n",
      "100%|██████████| 780/780 [00:00<00:00, 903.56it/s]\n"
     ]
    },
    {
     "name": "stdout",
     "output_type": "stream",
     "text": [
      "Train data: torch.Size([1304, 6, 12, 2500]) target: torch.Size([1304])\n",
      "Weighted Loss) Negative: 0.60 Positive: 0.40\n"
     ]
    },
    {
     "name": "stderr",
     "output_type": "stream",
     "text": [
      "100%|██████████| 132/132 [00:00<00:00, 913.41it/s]\n",
      "100%|██████████| 195/195 [00:00<00:00, 940.81it/s]\n",
      "100%|██████████| 3189/3189 [00:03<00:00, 901.15it/s]\n"
     ]
    },
    {
     "name": "stdout",
     "output_type": "stream",
     "text": [
      "Test data: torch.Size([3516, 6, 12, 2500]) target: torch.Size([3516])\n",
      "TRAINING FROM SCRATCH!\n",
      "model name:vit_B\n",
      "dataset:cad\n",
      "device:cuda\n",
      "Tensorboard:False\n",
      "Total parameter:66,778,882\n",
      "whole vit_angio\n",
      "(001/100) Train Loss:-1.0000 Test Loss:2.9621 Test Accuracy:0.5731% Balanced Test Accuracy:0.5431% Sensitivity:0.5083 specificity:0.5779 f1:0.1408 AUROC:0.5318\n",
      "whole vit_cad\n",
      "(001/100) Train Loss:-1.0000 Test Loss:0.3839 Test Accuracy:0.7290% Balanced Test Accuracy:0.5732% Sensitivity:0.3926 specificity:0.7538 f1:0.1662 AUROC:0.5906\n",
      "whole vit_whole\n",
      "(001/100) Train Loss:-1.0000 Test Loss:0.3574 Test Accuracy:0.3805% Balanced Test Accuracy:0.5392% Sensitivity:0.7231 specificity:0.3552 f1:0.1384 AUROC:0.5197\n"
     ]
    }
   ],
   "source": [
    "import torch\n",
    "import utils\n",
    "import argparse\n",
    "import numpy as np\n",
    "import torch.nn as nn\n",
    "from torch.utils.data import DataLoader\n",
    "\n",
    "from sklearn.metrics import accuracy_score, recall_score, f1_score, balanced_accuracy_score, roc_auc_score, roc_curve, confusion_matrix, auc\n",
    "\n",
    "import matplotlib.pyplot as plt\n",
    "\n",
    "def parse_args():\n",
    "    parser = argparse.ArgumentParser()\n",
    "    parser.add_argument('--exp_name', help='experiement name', type=str, default='CNN_B_CMSC')\n",
    "    parser.add_argument('--model', help='Model'  , type=str, default='CNN_B'  , choices=['CNN_B', 'CNN_Bg', 'CNN_single-B', 'vit_B', 'vit_B-single'])\n",
    "    parser.add_argument('--dataset', help='Dataset', type=str, default='cad', choices=['angio', 'cad', 'whole', 'full'])\n",
    "    parser.add_argument('--trainset', type=str, default='cad', choices=['angio', 'cad', 'whole', 'full'])\n",
    "    parser.add_argument('--testset', type=str, default='cad', choices=['angio', 'cad', 'whole', 'full'])\n",
    "    parser.add_argument('--phase', help='Phase', type=str, default='randominit', choices=['finetune', 'linear', 'randominit', 'SimCLR', 'BYOL', 'CMSC'])\n",
    "    parser.add_argument('--loss', help='Loss function', type=str, default='CrossEntropyLoss')\n",
    "    parser.add_argument('--optimizer', help='Optimizer', type=str, default='AdamW')\n",
    "    parser.add_argument('--lr', help='Learning rate', type=float, default=0.001)\n",
    "    parser.add_argument('--decay', help='Weight decay', type=float, default=0.001)\n",
    "    parser.add_argument('--batch_size', help='Batch size', type=int, default=128)\n",
    "    parser.add_argument('--epochs', help='Epochs', type=int, default=100)\n",
    "    parser.add_argument('--ckpt_freq', type=int, default=20)\n",
    "    parser.add_argument('--seed', type=int, default=0)\n",
    "     \n",
    "    parser.add_argument('--t', help='temperature for SimCLR', type=float, default=0.5)\n",
    "    parser.add_argument('--ma_decay', help='Moving average decay', type=float, default=0.9)\n",
    "    \n",
    "    parser.add_argument('--datapath', type=str, default='./dataset')\n",
    "    parser.add_argument('--test_batch', type=int, default=2048)\n",
    "    parser.add_argument('--ckpt_path', type=str, default='SimCLR_4096_aug_pretrain')\n",
    "    parser.add_argument('--ckpt_epoch', type=int, default=3)\n",
    "    parser.add_argument('--use_tb', type=bool, default=False)\n",
    "\n",
    "    args = parser.parse_args([])\n",
    "    return args\n",
    "\n",
    "def load_backbone(ckpt, model):\n",
    "    model_dict = model.state_dict()\n",
    "    pretrained_dict = {k: v for k, v in ckpt.items() if k in model_dict}\n",
    "    model_dict.update(pretrained_dict)\n",
    "    model.load_state_dict(model_dict)\n",
    "\n",
    "if __name__ == '__main__':\n",
    "    from torch.utils.data import DataLoader\n",
    "    args = parse_args()\n",
    "    args.model = 'vit_B'\n",
    "    torch.manual_seed(args.seed)\n",
    "    \n",
    "    # trainer = utils.build_trainer(args)\n",
    "    # ckpts = ['baseline_linear_angio', 'baseline_linear_cad', 'baseline_linear_whole']\n",
    "    ckpts = ['vit_angio', 'vit_cad', 'vit_whole']\n",
    "    testsets = ['angio', 'cad', 'whole']\n",
    "    \n",
    "    \n",
    "    for data in testsets:\n",
    "        args.testset = data\n",
    "        args.phase = 'randominit'\n",
    "        trainer = utils.build_trainer(args)\n",
    "        for ckpt in ckpts:\n",
    "            checkpoint = torch.load(f'./checkpoints/{ckpt}/30.pth')\n",
    "            load_backbone(checkpoint, trainer.model)            \n",
    "            trainer.test()\n",
    "            print(f'{data} {ckpt}')\n",
    "            trainer.print_train_info()"
   ]
  }
 ],
 "metadata": {
  "kernelspec": {
   "display_name": "Python 3",
   "language": "python",
   "name": "python3"
  },
  "language_info": {
   "codemirror_mode": {
    "name": "ipython",
    "version": 3
   },
   "file_extension": ".py",
   "mimetype": "text/x-python",
   "name": "python",
   "nbconvert_exporter": "python",
   "pygments_lexer": "ipython3",
   "version": "3.8.10"
  },
  "orig_nbformat": 4
 },
 "nbformat": 4,
 "nbformat_minor": 2
}
