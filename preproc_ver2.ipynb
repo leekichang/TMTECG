{
 "cells": [
  {
   "cell_type": "code",
   "execution_count": 1,
   "metadata": {},
   "outputs": [],
   "source": [
    "import os\n",
    "import pickle\n",
    "import numpy as np\n",
    "import pandas as pd\n",
    "from tqdm import tqdm\n",
    "from scipy.signal import resample\n",
    "import matplotlib.pyplot as plt\n",
    "from concurrent.futures import ThreadPoolExecutor\n",
    "from sklearn.model_selection import train_test_split\n",
    "parameters = {'axes.labelsize': 15,\n",
    "          'axes.titlesize': 25}\n",
    "plt.rcParams.update(parameters)\n",
    "\n",
    "DATAPATH = f'../dr-you-ecg-20220420_mount/DachungBoo_TMT/dhkim2'\n",
    "desired_stages = ['SITTING',\n",
    "                  'STAGE 1',\n",
    "                  'STAGE 2',\n",
    "                  'STAGE 3',\n",
    "                  'STAGE 4',\n",
    "                  'resting',\n",
    "                ]\n",
    "SAVE_PATH = f'./dataset/angio/train'\n"
   ]
  },
  {
   "cell_type": "code",
   "execution_count": 2,
   "metadata": {},
   "outputs": [
    {
     "data": {
      "text/html": [
       "<div>\n",
       "<style scoped>\n",
       "    .dataframe tbody tr th:only-of-type {\n",
       "        vertical-align: middle;\n",
       "    }\n",
       "\n",
       "    .dataframe tbody tr th {\n",
       "        vertical-align: top;\n",
       "    }\n",
       "\n",
       "    .dataframe thead th {\n",
       "        text-align: right;\n",
       "    }\n",
       "</style>\n",
       "<table border=\"1\" class=\"dataframe\">\n",
       "  <thead>\n",
       "    <tr style=\"text-align: right;\">\n",
       "      <th></th>\n",
       "      <th>patientID</th>\n",
       "      <th>AcqDate</th>\n",
       "      <th>fname</th>\n",
       "      <th>headCTDate</th>\n",
       "      <th>CAD_CT</th>\n",
       "      <th>total.calcium.score</th>\n",
       "      <th>AngioDate</th>\n",
       "      <th>CAD_ANGIO</th>\n",
       "      <th>CAD</th>\n",
       "    </tr>\n",
       "  </thead>\n",
       "  <tbody>\n",
       "    <tr>\n",
       "      <th>0</th>\n",
       "      <td>270948</td>\n",
       "      <td>06-18-2021</td>\n",
       "      <td>Case4/2062448#AHN#2021_06_18#09_12_28</td>\n",
       "      <td>2021-07-02</td>\n",
       "      <td>0</td>\n",
       "      <td>0.0</td>\n",
       "      <td>NaN</td>\n",
       "      <td>0</td>\n",
       "      <td>0</td>\n",
       "    </tr>\n",
       "    <tr>\n",
       "      <th>1</th>\n",
       "      <td>406838</td>\n",
       "      <td>01-12-2023</td>\n",
       "      <td>Case4/1760003#JANG#2023_01_12#15_38_08</td>\n",
       "      <td>2023-01-12</td>\n",
       "      <td>0</td>\n",
       "      <td>41.0</td>\n",
       "      <td>NaN</td>\n",
       "      <td>0</td>\n",
       "      <td>0</td>\n",
       "    </tr>\n",
       "    <tr>\n",
       "      <th>2</th>\n",
       "      <td>456189</td>\n",
       "      <td>12-15-2020</td>\n",
       "      <td>Case4/2497358#Kang#2020_12_15#13_35_09</td>\n",
       "      <td>2020-09-29</td>\n",
       "      <td>0</td>\n",
       "      <td>0.0</td>\n",
       "      <td>NaN</td>\n",
       "      <td>0</td>\n",
       "      <td>0</td>\n",
       "    </tr>\n",
       "    <tr>\n",
       "      <th>3</th>\n",
       "      <td>456189</td>\n",
       "      <td>09-29-2020</td>\n",
       "      <td>Case4/2497358#Kang#2020_09_29#13_37_55</td>\n",
       "      <td>2020-09-29</td>\n",
       "      <td>0</td>\n",
       "      <td>0.0</td>\n",
       "      <td>NaN</td>\n",
       "      <td>0</td>\n",
       "      <td>0</td>\n",
       "    </tr>\n",
       "    <tr>\n",
       "      <th>4</th>\n",
       "      <td>461683</td>\n",
       "      <td>12-06-2021</td>\n",
       "      <td>Case4/2338063#Kim#2021_12_06#14_22_43</td>\n",
       "      <td>2021-12-06</td>\n",
       "      <td>0</td>\n",
       "      <td>0.5</td>\n",
       "      <td>NaN</td>\n",
       "      <td>0</td>\n",
       "      <td>0</td>\n",
       "    </tr>\n",
       "    <tr>\n",
       "      <th>...</th>\n",
       "      <td>...</td>\n",
       "      <td>...</td>\n",
       "      <td>...</td>\n",
       "      <td>...</td>\n",
       "      <td>...</td>\n",
       "      <td>...</td>\n",
       "      <td>...</td>\n",
       "      <td>...</td>\n",
       "      <td>...</td>\n",
       "    </tr>\n",
       "    <tr>\n",
       "      <th>1627</th>\n",
       "      <td>10534581</td>\n",
       "      <td>12-31-2021</td>\n",
       "      <td>Case2/10487563#Lee#2021_12_31#09_06_52</td>\n",
       "      <td>NaN</td>\n",
       "      <td>0</td>\n",
       "      <td>NaN</td>\n",
       "      <td>2022-01-25</td>\n",
       "      <td>1</td>\n",
       "      <td>1</td>\n",
       "    </tr>\n",
       "    <tr>\n",
       "      <th>1628</th>\n",
       "      <td>10807958</td>\n",
       "      <td>08-17-2022</td>\n",
       "      <td>Case2/10639018#Choi#2022_08_17#14_22_54</td>\n",
       "      <td>NaN</td>\n",
       "      <td>0</td>\n",
       "      <td>NaN</td>\n",
       "      <td>2022-08-24</td>\n",
       "      <td>1</td>\n",
       "      <td>1</td>\n",
       "    </tr>\n",
       "    <tr>\n",
       "      <th>1629</th>\n",
       "      <td>10832854</td>\n",
       "      <td>09-21-2022</td>\n",
       "      <td>Case3/10654673#Chung#2022_09_21#14_10_50</td>\n",
       "      <td>NaN</td>\n",
       "      <td>0</td>\n",
       "      <td>NaN</td>\n",
       "      <td>2022-09-29</td>\n",
       "      <td>1</td>\n",
       "      <td>1</td>\n",
       "    </tr>\n",
       "    <tr>\n",
       "      <th>1630</th>\n",
       "      <td>10879679</td>\n",
       "      <td>09-14-2022</td>\n",
       "      <td>Case5/10682095#Kim#2022_09_14#15_22_59</td>\n",
       "      <td>NaN</td>\n",
       "      <td>0</td>\n",
       "      <td>NaN</td>\n",
       "      <td>2022-09-28</td>\n",
       "      <td>1</td>\n",
       "      <td>1</td>\n",
       "    </tr>\n",
       "    <tr>\n",
       "      <th>1631</th>\n",
       "      <td>10965696</td>\n",
       "      <td>01-09-2023</td>\n",
       "      <td>Case3/10736084#Moon#2023_01_09#16_01_52</td>\n",
       "      <td>NaN</td>\n",
       "      <td>0</td>\n",
       "      <td>NaN</td>\n",
       "      <td>2023-01-25</td>\n",
       "      <td>1</td>\n",
       "      <td>1</td>\n",
       "    </tr>\n",
       "  </tbody>\n",
       "</table>\n",
       "<p>1632 rows × 9 columns</p>\n",
       "</div>"
      ],
      "text/plain": [
       "      patientID     AcqDate                                     fname  \\\n",
       "0        270948  06-18-2021     Case4/2062448#AHN#2021_06_18#09_12_28   \n",
       "1        406838  01-12-2023    Case4/1760003#JANG#2023_01_12#15_38_08   \n",
       "2        456189  12-15-2020    Case4/2497358#Kang#2020_12_15#13_35_09   \n",
       "3        456189  09-29-2020    Case4/2497358#Kang#2020_09_29#13_37_55   \n",
       "4        461683  12-06-2021     Case4/2338063#Kim#2021_12_06#14_22_43   \n",
       "...         ...         ...                                       ...   \n",
       "1627   10534581  12-31-2021    Case2/10487563#Lee#2021_12_31#09_06_52   \n",
       "1628   10807958  08-17-2022   Case2/10639018#Choi#2022_08_17#14_22_54   \n",
       "1629   10832854  09-21-2022  Case3/10654673#Chung#2022_09_21#14_10_50   \n",
       "1630   10879679  09-14-2022    Case5/10682095#Kim#2022_09_14#15_22_59   \n",
       "1631   10965696  01-09-2023   Case3/10736084#Moon#2023_01_09#16_01_52   \n",
       "\n",
       "      headCTDate  CAD_CT total.calcium.score   AngioDate  CAD_ANGIO  CAD  \n",
       "0     2021-07-02       0                 0.0         NaN          0    0  \n",
       "1     2023-01-12       0                41.0         NaN          0    0  \n",
       "2     2020-09-29       0                 0.0         NaN          0    0  \n",
       "3     2020-09-29       0                 0.0         NaN          0    0  \n",
       "4     2021-12-06       0                 0.5         NaN          0    0  \n",
       "...          ...     ...                 ...         ...        ...  ...  \n",
       "1627         NaN       0                 NaN  2022-01-25          1    1  \n",
       "1628         NaN       0                 NaN  2022-08-24          1    1  \n",
       "1629         NaN       0                 NaN  2022-09-29          1    1  \n",
       "1630         NaN       0                 NaN  2022-09-28          1    1  \n",
       "1631         NaN       0                 NaN  2023-01-25          1    1  \n",
       "\n",
       "[1632 rows x 9 columns]"
      ]
     },
     "execution_count": 2,
     "metadata": {},
     "output_type": "execute_result"
    }
   ],
   "source": [
    "database = pd.read_csv(f'use_this_data/20230805_CAD_DF_FINAL.csv')\n",
    "fnames = [name.split('/')[-1] for name in database['fname'].to_list()]\n",
    "labels = [label for label in database['CAD'].to_list()]\n",
    "database"
   ]
  },
  {
   "cell_type": "code",
   "execution_count": 3,
   "metadata": {},
   "outputs": [],
   "source": [
    "def calc_ratio(y):\n",
    "    a = y.count(0)\n",
    "    b = y.count(1)\n",
    "    return b/(a+b)\n",
    "\n",
    "def resample_data(data, original_rate=500, target_rate=250):\n",
    "    original_length = data.shape[0]\n",
    "    target_length = int(original_length * target_rate / original_rate)\n",
    "    resampled_data = resample(data, target_length)\n",
    "    return resampled_data\n",
    "\n",
    "def filter_data(data, shape=(1, 12, 2500)):\n",
    "    if len(data) != 0:\n",
    "        return data[len(data)//2].reshape(shape)\n",
    "    else:\n",
    "        return np.zeros(shape)\n",
    "    \n",
    "def process_file(file):\n",
    "    f, label   = file[0], file[1]\n",
    "    stage_file = f'{DATAPATH}/{f}_s_list.csv'\n",
    "    user_data  = {stage: [] for stage in desired_stages}\n",
    "    if os.path.exists(stage_file):\n",
    "        df = pd.read_csv(stage_file)\n",
    "        for idx in range(len(df)):\n",
    "            stage = str(df.loc[idx]['StageName'])\n",
    "            stripIndex = df.loc[idx]['StripIndex']\n",
    "            \n",
    "            for stage_ in desired_stages[:-1]:\n",
    "                if stage_ in stage:\n",
    "                    data = pd.read_csv(f'{DATAPATH}/{f}_s_i{stripIndex}.csv')\n",
    "                    data = resample_data(data.to_numpy()).transpose(1,0)\n",
    "                    user_data[stage_].append(data)\n",
    "            \n",
    "            if '#' in stage:\n",
    "                data = pd.read_csv(f'{DATAPATH}/{f}_s_i{stripIndex}.csv')\n",
    "                data = resample_data(data.to_numpy()).transpose(1,0)\n",
    "                user_data['resting'].append(data)\n",
    "        datas = np.vstack([filter_data(user_data[data]) for data in desired_stages])\n",
    "        np.savez_compressed(f'{SAVE_PATH}/{f}.npz',\\\n",
    "                        id    = f,\\\n",
    "                        data  = datas,\\\n",
    "                        label = int(label))\n",
    "    else:\n",
    "        print(f\"*** {f} DOESN'T HAVE STAGE INFORMATION! ***\", flush=True)\n",
    "    "
   ]
  },
  {
   "cell_type": "code",
   "execution_count": 4,
   "metadata": {},
   "outputs": [],
   "source": [
    "angio_files  = database[database['AngioDate'].fillna(0)!=0]['fname'].to_list()\n",
    "angio_labels = database[database['AngioDate'].fillna(0)!=0]['CAD'].to_list()\n",
    "angio_files  = [file.split('/')[-1] for file in angio_files]\n",
    "angio_train_files, angio_test_files, angio_train_y, angio_test_y = train_test_split(angio_files, angio_labels, test_size=0.2, random_state=42)"
   ]
  },
  {
   "cell_type": "code",
   "execution_count": 5,
   "metadata": {},
   "outputs": [],
   "source": [
    "# SAVE_PATH = f'./dataset/angio/train'\n",
    "# os.makedirs(SAVE_PATH, exist_ok=True)\n",
    "# target = np.vstack([angio_train_files, angio_train_y]).transpose(1,0)\n",
    "# with ThreadPoolExecutor(max_workers=16) as executor:\n",
    "#     results = list(tqdm(executor.map(process_file, target), total=len(target)))"
   ]
  },
  {
   "cell_type": "code",
   "execution_count": 6,
   "metadata": {},
   "outputs": [],
   "source": [
    "# SAVE_PATH = f'./dataset/angio/test'\n",
    "# os.makedirs(SAVE_PATH, exist_ok=True)\n",
    "# target = np.vstack([angio_test_files, angio_test_y]).transpose(1,0)\n",
    "# with ThreadPoolExecutor(max_workers=16) as executor:\n",
    "#     results = list(tqdm(executor.map(process_file, target), total=len(target)))"
   ]
  },
  {
   "cell_type": "code",
   "execution_count": 7,
   "metadata": {},
   "outputs": [],
   "source": [
    "non_angio_files  = database[database['AngioDate'].fillna(0)==0]['fname'].to_list()\n",
    "non_angio_labels = database[database['AngioDate'].fillna(0)==0]['CAD'].to_list()\n",
    "non_angio_files  = [file.split('/')[-1] for file in non_angio_files]\n",
    "non_angio_train_files, non_angio_test_files, non_angio_train_y, non_angio_test_y = train_test_split(non_angio_files, non_angio_labels, test_size=0.2, random_state=42)"
   ]
  },
  {
   "cell_type": "code",
   "execution_count": 8,
   "metadata": {},
   "outputs": [],
   "source": [
    "# SAVE_PATH = f'./dataset/non_angio/train'\n",
    "# os.makedirs(SAVE_PATH, exist_ok=True)\n",
    "# target = np.vstack([non_angio_train_files, non_angio_train_y]).transpose(1,0)\n",
    "# with ThreadPoolExecutor(max_workers=16) as executor:\n",
    "#     results = list(tqdm(executor.map(process_file, target), total=len(target)))"
   ]
  },
  {
   "cell_type": "code",
   "execution_count": 9,
   "metadata": {},
   "outputs": [],
   "source": [
    "# SAVE_PATH = f'./dataset/non_angio/test'\n",
    "# os.makedirs(SAVE_PATH, exist_ok=True)\n",
    "# target = np.vstack([non_angio_test_files, non_angio_test_y]).transpose(1,0)\n",
    "# with ThreadPoolExecutor(max_workers=16) as executor:\n",
    "#     results = list(tqdm(executor.map(process_file, target), total=len(target)))"
   ]
  },
  {
   "cell_type": "code",
   "execution_count": 10,
   "metadata": {},
   "outputs": [
    {
     "data": {
      "text/html": [
       "<div>\n",
       "<style scoped>\n",
       "    .dataframe tbody tr th:only-of-type {\n",
       "        vertical-align: middle;\n",
       "    }\n",
       "\n",
       "    .dataframe tbody tr th {\n",
       "        vertical-align: top;\n",
       "    }\n",
       "\n",
       "    .dataframe thead th {\n",
       "        text-align: right;\n",
       "    }\n",
       "</style>\n",
       "<table border=\"1\" class=\"dataframe\">\n",
       "  <thead>\n",
       "    <tr style=\"text-align: right;\">\n",
       "      <th></th>\n",
       "      <th>No</th>\n",
       "      <th>fname</th>\n",
       "      <th>AcqDate</th>\n",
       "      <th>CT_검사시행일자</th>\n",
       "      <th>CAD_CT</th>\n",
       "      <th>ANGIO_검사시행일자</th>\n",
       "      <th>CAD_ANGIO</th>\n",
       "      <th>CAD_OUTCOME</th>\n",
       "    </tr>\n",
       "  </thead>\n",
       "  <tbody>\n",
       "    <tr>\n",
       "      <th>0</th>\n",
       "      <td>1</td>\n",
       "      <td>10000353#Seo#2022_04_06#10_40_51</td>\n",
       "      <td>2022-04-06</td>\n",
       "      <td>NaN</td>\n",
       "      <td>NaN</td>\n",
       "      <td>NaN</td>\n",
       "      <td>NaN</td>\n",
       "      <td>0.0</td>\n",
       "    </tr>\n",
       "    <tr>\n",
       "      <th>1</th>\n",
       "      <td>2</td>\n",
       "      <td>10000394#Jin#2022_02_03#10_23_41</td>\n",
       "      <td>2022-02-03</td>\n",
       "      <td>NaN</td>\n",
       "      <td>NaN</td>\n",
       "      <td>NaN</td>\n",
       "      <td>NaN</td>\n",
       "      <td>0.0</td>\n",
       "    </tr>\n",
       "    <tr>\n",
       "      <th>2</th>\n",
       "      <td>3</td>\n",
       "      <td>1000071#Son#2021_05_03#09_20_57</td>\n",
       "      <td>2021-05-03</td>\n",
       "      <td>2021-03-24</td>\n",
       "      <td>1.0</td>\n",
       "      <td>NaN</td>\n",
       "      <td>0.0</td>\n",
       "      <td>1.0</td>\n",
       "    </tr>\n",
       "    <tr>\n",
       "      <th>3</th>\n",
       "      <td>4</td>\n",
       "      <td>10000810#Yim#2021_07_01#10_05_29</td>\n",
       "      <td>2021-07-01</td>\n",
       "      <td>NaN</td>\n",
       "      <td>NaN</td>\n",
       "      <td>NaN</td>\n",
       "      <td>NaN</td>\n",
       "      <td>0.0</td>\n",
       "    </tr>\n",
       "    <tr>\n",
       "      <th>4</th>\n",
       "      <td>5</td>\n",
       "      <td>10001796#Park#2021_09_24#09_49_21</td>\n",
       "      <td>2021-09-24</td>\n",
       "      <td>NaN</td>\n",
       "      <td>NaN</td>\n",
       "      <td>NaN</td>\n",
       "      <td>NaN</td>\n",
       "      <td>0.0</td>\n",
       "    </tr>\n",
       "    <tr>\n",
       "      <th>...</th>\n",
       "      <td>...</td>\n",
       "      <td>...</td>\n",
       "      <td>...</td>\n",
       "      <td>...</td>\n",
       "      <td>...</td>\n",
       "      <td>...</td>\n",
       "      <td>...</td>\n",
       "      <td>...</td>\n",
       "    </tr>\n",
       "    <tr>\n",
       "      <th>16273</th>\n",
       "      <td>16274</td>\n",
       "      <td>971305#Chun#2022_04_08#11_07_27</td>\n",
       "      <td>2022-04-08</td>\n",
       "      <td>NaN</td>\n",
       "      <td>NaN</td>\n",
       "      <td>NaN</td>\n",
       "      <td>NaN</td>\n",
       "      <td>0.0</td>\n",
       "    </tr>\n",
       "    <tr>\n",
       "      <th>16274</th>\n",
       "      <td>16275</td>\n",
       "      <td>9721035#Cho#2021_12_10#13_34_33</td>\n",
       "      <td>2021-12-10</td>\n",
       "      <td>NaN</td>\n",
       "      <td>NaN</td>\n",
       "      <td>NaN</td>\n",
       "      <td>NaN</td>\n",
       "      <td>0.0</td>\n",
       "    </tr>\n",
       "    <tr>\n",
       "      <th>16275</th>\n",
       "      <td>16276</td>\n",
       "      <td>9757320#Cho#2021_08_06#09_58_40</td>\n",
       "      <td>2021-08-06</td>\n",
       "      <td>NaN</td>\n",
       "      <td>NaN</td>\n",
       "      <td>NaN</td>\n",
       "      <td>NaN</td>\n",
       "      <td>0.0</td>\n",
       "    </tr>\n",
       "    <tr>\n",
       "      <th>16276</th>\n",
       "      <td>16277</td>\n",
       "      <td>9894775#Kim#2022_12_06#13_35_52</td>\n",
       "      <td>2022-12-06</td>\n",
       "      <td>NaN</td>\n",
       "      <td>0.0</td>\n",
       "      <td>2022-12-12</td>\n",
       "      <td>1.0</td>\n",
       "      <td>1.0</td>\n",
       "    </tr>\n",
       "    <tr>\n",
       "      <th>16277</th>\n",
       "      <td>16278</td>\n",
       "      <td>993005#Park#2021_04_23#10_16_41</td>\n",
       "      <td>2021-04-23</td>\n",
       "      <td>NaN</td>\n",
       "      <td>NaN</td>\n",
       "      <td>NaN</td>\n",
       "      <td>NaN</td>\n",
       "      <td>0.0</td>\n",
       "    </tr>\n",
       "  </tbody>\n",
       "</table>\n",
       "<p>16278 rows × 8 columns</p>\n",
       "</div>"
      ],
      "text/plain": [
       "          No                              fname     AcqDate   CT_검사시행일자  \\\n",
       "0          1   10000353#Seo#2022_04_06#10_40_51  2022-04-06         NaN   \n",
       "1          2   10000394#Jin#2022_02_03#10_23_41  2022-02-03         NaN   \n",
       "2          3    1000071#Son#2021_05_03#09_20_57  2021-05-03  2021-03-24   \n",
       "3          4   10000810#Yim#2021_07_01#10_05_29  2021-07-01         NaN   \n",
       "4          5  10001796#Park#2021_09_24#09_49_21  2021-09-24         NaN   \n",
       "...      ...                                ...         ...         ...   \n",
       "16273  16274    971305#Chun#2022_04_08#11_07_27  2022-04-08         NaN   \n",
       "16274  16275    9721035#Cho#2021_12_10#13_34_33  2021-12-10         NaN   \n",
       "16275  16276    9757320#Cho#2021_08_06#09_58_40  2021-08-06         NaN   \n",
       "16276  16277    9894775#Kim#2022_12_06#13_35_52  2022-12-06         NaN   \n",
       "16277  16278    993005#Park#2021_04_23#10_16_41  2021-04-23         NaN   \n",
       "\n",
       "       CAD_CT ANGIO_검사시행일자  CAD_ANGIO  CAD_OUTCOME  \n",
       "0         NaN          NaN        NaN          0.0  \n",
       "1         NaN          NaN        NaN          0.0  \n",
       "2         1.0          NaN        0.0          1.0  \n",
       "3         NaN          NaN        NaN          0.0  \n",
       "4         NaN          NaN        NaN          0.0  \n",
       "...       ...          ...        ...          ...  \n",
       "16273     NaN          NaN        NaN          0.0  \n",
       "16274     NaN          NaN        NaN          0.0  \n",
       "16275     NaN          NaN        NaN          0.0  \n",
       "16276     0.0   2022-12-12        1.0          1.0  \n",
       "16277     NaN          NaN        NaN          0.0  \n",
       "\n",
       "[16278 rows x 8 columns]"
      ]
     },
     "execution_count": 10,
     "metadata": {},
     "output_type": "execute_result"
    }
   ],
   "source": [
    "database = pd.read_csv(f'../dr-you-ecg-20220420_mount/DachungBoo_TMT/20230821_TMT_WHOLE_DATA.csv', encoding='cp949')\n",
    "database['CAD_OUTCOME'] = database['CAD_OUTCOME'].fillna(0)\n",
    "database"
   ]
  },
  {
   "cell_type": "code",
   "execution_count": 11,
   "metadata": {},
   "outputs": [],
   "source": [
    "fnames = [name.split('/')[-1] for name in database['fname'].to_list()]\n",
    "labels = [int(label) for label in database['CAD_OUTCOME'].to_list()]"
   ]
  },
  {
   "cell_type": "code",
   "execution_count": 12,
   "metadata": {},
   "outputs": [
    {
     "data": {
      "text/plain": [
       "16278"
      ]
     },
     "execution_count": 12,
     "metadata": {},
     "output_type": "execute_result"
    }
   ],
   "source": [
    "len(fnames)"
   ]
  },
  {
   "cell_type": "code",
   "execution_count": 13,
   "metadata": {},
   "outputs": [],
   "source": [
    "for file in non_angio_test_files:\n",
    "    idx = fnames.index(file)\n",
    "    fnames.pop(idx)\n",
    "    labels.pop(idx)\n",
    "for file in angio_test_files:\n",
    "    idx = fnames.index(file)\n",
    "    fnames.pop(idx)\n",
    "    labels.pop(idx)"
   ]
  },
  {
   "cell_type": "code",
   "execution_count": 14,
   "metadata": {},
   "outputs": [],
   "source": [
    "full_files  = [file for file in fnames]\n",
    "full_train_files, full_test_files, full_train_y, full_test_y = train_test_split(full_files, labels, test_size=0.2, random_state=42)"
   ]
  },
  {
   "cell_type": "code",
   "execution_count": 15,
   "metadata": {},
   "outputs": [],
   "source": [
    "def filter_data(data, shape=(1, 12, 2500)):\n",
    "    if len(data) != 0:\n",
    "        return data[len(data)//2].reshape(shape)\n",
    "    else:\n",
    "        return np.zeros(shape)\n",
    "    \n",
    "def process_file(file):\n",
    "    f, label   = file[0], file[1]\n",
    "    stage_file = f'{DATAPATH}/{f}_s_list.csv'\n",
    "    user_data  = {stage: [] for stage in desired_stages}\n",
    "    if os.path.exists(stage_file):\n",
    "        df = pd.read_csv(stage_file)\n",
    "        for idx in range(len(df)):\n",
    "            stage = str(df.loc[idx]['StageName'])\n",
    "            stripIndex = df.loc[idx]['StripIndex']\n",
    "            \n",
    "            for stage_ in desired_stages[:-1]:\n",
    "                if stage_ in stage:\n",
    "                    data = pd.read_csv(f'{DATAPATH}/{f}_s_i{stripIndex}.csv')\n",
    "                    data = resample_data(data.to_numpy(), 200, 250).transpose(1,0)\n",
    "                    user_data[stage_].append(data)\n",
    "            \n",
    "            if '#' in stage:\n",
    "                data = pd.read_csv(f'{DATAPATH}/{f}_s_i{stripIndex}.csv')\n",
    "                data = resample_data(data.to_numpy()).transpose(1,0)\n",
    "                user_data['resting'].append(data)\n",
    "        datas = np.vstack([filter_data(user_data[data]) for data in desired_stages])\n",
    "        np.savez_compressed(f'{SAVE_PATH}/{f}.npz',\\\n",
    "                        id    = f,\\\n",
    "                        data  = datas,\\\n",
    "                        label = int(label))\n",
    "    else:\n",
    "        print(f\"*** {f} DOESN'T HAVE STAGE INFORMATION! ***\", flush=True)"
   ]
  },
  {
   "cell_type": "code",
   "execution_count": 16,
   "metadata": {},
   "outputs": [
    {
     "data": {
      "text/html": [
       "<div>\n",
       "<style scoped>\n",
       "    .dataframe tbody tr th:only-of-type {\n",
       "        vertical-align: middle;\n",
       "    }\n",
       "\n",
       "    .dataframe tbody tr th {\n",
       "        vertical-align: top;\n",
       "    }\n",
       "\n",
       "    .dataframe thead th {\n",
       "        text-align: right;\n",
       "    }\n",
       "</style>\n",
       "<table border=\"1\" class=\"dataframe\">\n",
       "  <thead>\n",
       "    <tr style=\"text-align: right;\">\n",
       "      <th></th>\n",
       "      <th>I</th>\n",
       "      <th>II</th>\n",
       "      <th>III</th>\n",
       "      <th>aVR</th>\n",
       "      <th>aVL</th>\n",
       "      <th>aVF</th>\n",
       "      <th>V1</th>\n",
       "      <th>V2</th>\n",
       "      <th>V3</th>\n",
       "      <th>V4</th>\n",
       "      <th>V5</th>\n",
       "      <th>V6</th>\n",
       "    </tr>\n",
       "  </thead>\n",
       "  <tbody>\n",
       "    <tr>\n",
       "      <th>0</th>\n",
       "      <td>41</td>\n",
       "      <td>30</td>\n",
       "      <td>-11</td>\n",
       "      <td>-32</td>\n",
       "      <td>29</td>\n",
       "      <td>9</td>\n",
       "      <td>-1</td>\n",
       "      <td>104</td>\n",
       "      <td>66</td>\n",
       "      <td>35</td>\n",
       "      <td>29</td>\n",
       "      <td>3</td>\n",
       "    </tr>\n",
       "    <tr>\n",
       "      <th>1</th>\n",
       "      <td>26</td>\n",
       "      <td>27</td>\n",
       "      <td>3</td>\n",
       "      <td>-24</td>\n",
       "      <td>14</td>\n",
       "      <td>15</td>\n",
       "      <td>6</td>\n",
       "      <td>121</td>\n",
       "      <td>76</td>\n",
       "      <td>46</td>\n",
       "      <td>39</td>\n",
       "      <td>8</td>\n",
       "    </tr>\n",
       "    <tr>\n",
       "      <th>2</th>\n",
       "      <td>23</td>\n",
       "      <td>29</td>\n",
       "      <td>8</td>\n",
       "      <td>-23</td>\n",
       "      <td>10</td>\n",
       "      <td>18</td>\n",
       "      <td>9</td>\n",
       "      <td>132</td>\n",
       "      <td>82</td>\n",
       "      <td>51</td>\n",
       "      <td>46</td>\n",
       "      <td>12</td>\n",
       "    </tr>\n",
       "    <tr>\n",
       "      <th>3</th>\n",
       "      <td>22</td>\n",
       "      <td>29</td>\n",
       "      <td>5</td>\n",
       "      <td>-24</td>\n",
       "      <td>12</td>\n",
       "      <td>16</td>\n",
       "      <td>14</td>\n",
       "      <td>143</td>\n",
       "      <td>87</td>\n",
       "      <td>54</td>\n",
       "      <td>48</td>\n",
       "      <td>13</td>\n",
       "    </tr>\n",
       "    <tr>\n",
       "      <th>4</th>\n",
       "      <td>25</td>\n",
       "      <td>27</td>\n",
       "      <td>5</td>\n",
       "      <td>-21</td>\n",
       "      <td>13</td>\n",
       "      <td>14</td>\n",
       "      <td>16</td>\n",
       "      <td>150</td>\n",
       "      <td>95</td>\n",
       "      <td>61</td>\n",
       "      <td>55</td>\n",
       "      <td>13</td>\n",
       "    </tr>\n",
       "    <tr>\n",
       "      <th>...</th>\n",
       "      <td>...</td>\n",
       "      <td>...</td>\n",
       "      <td>...</td>\n",
       "      <td>...</td>\n",
       "      <td>...</td>\n",
       "      <td>...</td>\n",
       "      <td>...</td>\n",
       "      <td>...</td>\n",
       "      <td>...</td>\n",
       "      <td>...</td>\n",
       "      <td>...</td>\n",
       "      <td>...</td>\n",
       "    </tr>\n",
       "    <tr>\n",
       "      <th>188395</th>\n",
       "      <td>4</td>\n",
       "      <td>-19</td>\n",
       "      <td>-22</td>\n",
       "      <td>7</td>\n",
       "      <td>12</td>\n",
       "      <td>-21</td>\n",
       "      <td>11</td>\n",
       "      <td>32</td>\n",
       "      <td>20</td>\n",
       "      <td>1</td>\n",
       "      <td>-9</td>\n",
       "      <td>-13</td>\n",
       "    </tr>\n",
       "    <tr>\n",
       "      <th>188396</th>\n",
       "      <td>5</td>\n",
       "      <td>-18</td>\n",
       "      <td>-21</td>\n",
       "      <td>7</td>\n",
       "      <td>13</td>\n",
       "      <td>-19</td>\n",
       "      <td>13</td>\n",
       "      <td>38</td>\n",
       "      <td>24</td>\n",
       "      <td>6</td>\n",
       "      <td>-8</td>\n",
       "      <td>-15</td>\n",
       "    </tr>\n",
       "    <tr>\n",
       "      <th>188397</th>\n",
       "      <td>6</td>\n",
       "      <td>-19</td>\n",
       "      <td>-22</td>\n",
       "      <td>3</td>\n",
       "      <td>13</td>\n",
       "      <td>-17</td>\n",
       "      <td>11</td>\n",
       "      <td>39</td>\n",
       "      <td>24</td>\n",
       "      <td>9</td>\n",
       "      <td>-6</td>\n",
       "      <td>-13</td>\n",
       "    </tr>\n",
       "    <tr>\n",
       "      <th>188398</th>\n",
       "      <td>8</td>\n",
       "      <td>-9</td>\n",
       "      <td>-16</td>\n",
       "      <td>0</td>\n",
       "      <td>13</td>\n",
       "      <td>-13</td>\n",
       "      <td>8</td>\n",
       "      <td>42</td>\n",
       "      <td>27</td>\n",
       "      <td>9</td>\n",
       "      <td>-2</td>\n",
       "      <td>-10</td>\n",
       "    </tr>\n",
       "    <tr>\n",
       "      <th>188399</th>\n",
       "      <td>7</td>\n",
       "      <td>-8</td>\n",
       "      <td>-14</td>\n",
       "      <td>0</td>\n",
       "      <td>10</td>\n",
       "      <td>-11</td>\n",
       "      <td>9</td>\n",
       "      <td>46</td>\n",
       "      <td>32</td>\n",
       "      <td>11</td>\n",
       "      <td>-2</td>\n",
       "      <td>-9</td>\n",
       "    </tr>\n",
       "  </tbody>\n",
       "</table>\n",
       "<p>188400 rows × 12 columns</p>\n",
       "</div>"
      ],
      "text/plain": [
       "         I  II  III  aVR  aVL  aVF  V1   V2  V3  V4  V5  V6\n",
       "0       41  30  -11  -32   29    9  -1  104  66  35  29   3\n",
       "1       26  27    3  -24   14   15   6  121  76  46  39   8\n",
       "2       23  29    8  -23   10   18   9  132  82  51  46  12\n",
       "3       22  29    5  -24   12   16  14  143  87  54  48  13\n",
       "4       25  27    5  -21   13   14  16  150  95  61  55  13\n",
       "...     ..  ..  ...  ...  ...  ...  ..  ...  ..  ..  ..  ..\n",
       "188395   4 -19  -22    7   12  -21  11   32  20   1  -9 -13\n",
       "188396   5 -18  -21    7   13  -19  13   38  24   6  -8 -15\n",
       "188397   6 -19  -22    3   13  -17  11   39  24   9  -6 -13\n",
       "188398   8  -9  -16    0   13  -13   8   42  27   9  -2 -10\n",
       "188399   7  -8  -14    0   10  -11   9   46  32  11  -2  -9\n",
       "\n",
       "[188400 rows x 12 columns]"
      ]
     },
     "execution_count": 16,
     "metadata": {},
     "output_type": "execute_result"
    }
   ],
   "source": [
    "pd.read_csv(f'{DATAPATH}/{fnames[0]}_full.csv')\n"
   ]
  },
  {
   "cell_type": "code",
   "execution_count": 17,
   "metadata": {},
   "outputs": [],
   "source": [
    "# SAVE_PATH = f'./dataset/whole/test'\n",
    "# os.makedirs(SAVE_PATH, exist_ok=True)\n",
    "# target = np.vstack([full_test_files, full_test_y]).transpose(1,0)\n",
    "# with ThreadPoolExecutor(max_workers=16) as executor:\n",
    "#     results = list(tqdm(executor.map(process_file, target), total=len(target)))"
   ]
  },
  {
   "cell_type": "code",
   "execution_count": 18,
   "metadata": {},
   "outputs": [],
   "source": [
    "# SAVE_PATH = f'./dataset/whole/train'\n",
    "# os.makedirs(SAVE_PATH, exist_ok=True)\n",
    "# target = np.vstack([full_train_files, full_train_y]).transpose(1,0)\n",
    "# with ThreadPoolExecutor(max_workers=16) as executor:\n",
    "#     results = list(tqdm(executor.map(process_file, target), total=len(target)))"
   ]
  },
  {
   "cell_type": "code",
   "execution_count": 19,
   "metadata": {},
   "outputs": [],
   "source": [
    "def segment_data(data, sample_rate=250, window_size=10):\n",
    "    window_samples = window_size * sample_rate\n",
    "    num_windows = len(data) // window_samples\n",
    "    num_samples = num_windows * window_samples\n",
    "    data = data[:num_samples]\n",
    "    split_data = np.split(data, num_windows)\n",
    "    return np.array(split_data)\n",
    "\n",
    "def resample_data(data, original_rate=200, target_rate=250):\n",
    "    original_length = data.shape[0]\n",
    "    target_length = int(original_length * target_rate / original_rate)\n",
    "    resampled_data = resample(data, target_length)\n",
    "    return resampled_data\n",
    "\n",
    "def process_file(file):\n",
    "    if os.path.exists(f'{DATAPATH}/{file}_full.csv'):\n",
    "        df = pd.read_csv(f'{DATAPATH}/{file}_full.csv')\n",
    "        datas = df.to_numpy()\n",
    "        if datas.shape[0] >= 2500:\n",
    "            datas = segment_data(resample_data(datas)).transpose(0,2,1)\n",
    "            np.savez_compressed(f'{SAVE_PATH}/{file}.npz',\\\n",
    "                                    id    = file,\\\n",
    "                                    data  = datas)\n",
    "        else:\n",
    "            print(f\"*** {file} DOESN'T HAVE ENOUGH DATA POINT! ***\", flush=True)    \n",
    "    else:\n",
    "        print(f\"*** {file} DOESN'T HAVE FULL FILE! ***\", flush=True)"
   ]
  },
  {
   "cell_type": "code",
   "execution_count": 20,
   "metadata": {},
   "outputs": [
    {
     "name": "stderr",
     "output_type": "stream",
     "text": [
      "  1%|▏         | 162/12760 [00:24<33:21,  6.29it/s]"
     ]
    },
    {
     "name": "stdout",
     "output_type": "stream",
     "text": [
      "*** 10710261#Yang#2022_10_19#15_57_57 DOESN'T HAVE ENOUGH DATA POINT! ***\n"
     ]
    },
    {
     "name": "stderr",
     "output_type": "stream",
     "text": [
      "  6%|▋         | 820/12760 [01:57<34:01,  5.85it/s]"
     ]
    },
    {
     "name": "stdout",
     "output_type": "stream",
     "text": [
      "*** 10226059#Yim#2021_07_01#11_00_29 DOESN'T HAVE FULL FILE! ***\n"
     ]
    },
    {
     "name": "stderr",
     "output_type": "stream",
     "text": [
      "  8%|▊         | 1057/12760 [02:29<21:55,  8.90it/s]  "
     ]
    },
    {
     "name": "stdout",
     "output_type": "stream",
     "text": [
      "*** 1717563#Jang#2021_07_05#09_40_24 DOESN'T HAVE FULL FILE! ***\n"
     ]
    },
    {
     "name": "stderr",
     "output_type": "stream",
     "text": [
      " 10%|▉         | 1227/12760 [02:53<26:49,  7.16it/s]"
     ]
    },
    {
     "name": "stdout",
     "output_type": "stream",
     "text": [
      "*** 7812236#Yoo#2022_02_07#08_04_01 DOESN'T HAVE ENOUGH DATA POINT! ***\n"
     ]
    },
    {
     "name": "stderr",
     "output_type": "stream",
     "text": [
      " 19%|█▉        | 2448/12760 [05:43<24:19,  7.07it/s]  "
     ]
    },
    {
     "name": "stdout",
     "output_type": "stream",
     "text": [
      "*** 5275574#Chung#2021_09_30#08_45_18 DOESN'T HAVE FULL FILE! ***\n"
     ]
    },
    {
     "name": "stderr",
     "output_type": "stream",
     "text": [
      " 21%|██▏       | 2734/12760 [06:23<25:39,  6.51it/s]"
     ]
    },
    {
     "name": "stdout",
     "output_type": "stream",
     "text": [
      "*** 2448714#YIM#2022_03_10#13_30_49 DOESN'T HAVE FULL FILE! ***\n"
     ]
    },
    {
     "name": "stderr",
     "output_type": "stream",
     "text": [
      " 22%|██▏       | 2765/12760 [06:28<38:26,  4.33it/s]"
     ]
    },
    {
     "name": "stdout",
     "output_type": "stream",
     "text": [
      "*** 8457191#Son#2022_07_14#08_20_10 DOESN'T HAVE FULL FILE! ***\n"
     ]
    },
    {
     "name": "stderr",
     "output_type": "stream",
     "text": [
      " 22%|██▏       | 2787/12760 [06:30<25:01,  6.64it/s]"
     ]
    },
    {
     "name": "stdout",
     "output_type": "stream",
     "text": [
      "*** 19601023#Kim#2021_08_03#16_00_40 DOESN'T HAVE FULL FILE! ***\n"
     ]
    },
    {
     "name": "stderr",
     "output_type": "stream",
     "text": [
      " 25%|██▍       | 3149/12760 [07:20<16:42,  9.59it/s]"
     ]
    },
    {
     "name": "stdout",
     "output_type": "stream",
     "text": [
      "*** 2290158#Kim#2022_09_20#10_46_27 DOESN'T HAVE FULL FILE! ***\n"
     ]
    },
    {
     "name": "stderr",
     "output_type": "stream",
     "text": [
      " 25%|██▍       | 3188/12760 [07:25<14:45, 10.82it/s]"
     ]
    },
    {
     "name": "stdout",
     "output_type": "stream",
     "text": [
      "*** 35913212#Park#2022_10_19#08_26_11 DOESN'T HAVE FULL FILE! ***\n"
     ]
    },
    {
     "name": "stderr",
     "output_type": "stream",
     "text": [
      " 26%|██▋       | 3362/12760 [07:52<23:29,  6.67it/s]  "
     ]
    },
    {
     "name": "stdout",
     "output_type": "stream",
     "text": [
      "*** 10364078#Heo#2021_04_28#11_07_01 DOESN'T HAVE FULL FILE! ***\n"
     ]
    },
    {
     "name": "stderr",
     "output_type": "stream",
     "text": [
      " 27%|██▋       | 3414/12760 [08:00<22:50,  6.82it/s]"
     ]
    },
    {
     "name": "stdout",
     "output_type": "stream",
     "text": [
      "*** 10407641#Jeon#2021_12_09#10_37_38 DOESN'T HAVE FULL FILE! ***\n"
     ]
    },
    {
     "name": "stderr",
     "output_type": "stream",
     "text": [
      " 28%|██▊       | 3549/12760 [08:18<16:52,  9.10it/s]"
     ]
    },
    {
     "name": "stdout",
     "output_type": "stream",
     "text": [
      "*** 3737316#Ko#2021_06_30#15_18_38 DOESN'T HAVE FULL FILE! ***\n"
     ]
    },
    {
     "name": "stderr",
     "output_type": "stream",
     "text": [
      " 28%|██▊       | 3625/12760 [08:29<18:38,  8.16it/s]"
     ]
    },
    {
     "name": "stdout",
     "output_type": "stream",
     "text": [
      "*** 2835213#Ahn#2021_04_27#08_19_08 DOESN'T HAVE FULL FILE! ***\n"
     ]
    },
    {
     "name": "stderr",
     "output_type": "stream",
     "text": [
      " 31%|███       | 3912/12760 [09:09<16:28,  8.95it/s]"
     ]
    },
    {
     "name": "stdout",
     "output_type": "stream",
     "text": [
      "*** 5602434#Lee#2021_05_14#08_59_06 DOESN'T HAVE ENOUGH DATA POINT! ***\n"
     ]
    },
    {
     "name": "stderr",
     "output_type": "stream",
     "text": [
      " 37%|███▋      | 4716/12760 [11:06<12:38, 10.60it/s]  "
     ]
    },
    {
     "name": "stdout",
     "output_type": "stream",
     "text": [
      "*** 8503533#Kim#2022_10_19#08_11_40 DOESN'T HAVE FULL FILE! ***\n"
     ]
    },
    {
     "name": "stderr",
     "output_type": "stream",
     "text": [
      " 40%|████      | 5116/12760 [12:01<14:05,  9.04it/s]"
     ]
    },
    {
     "name": "stdout",
     "output_type": "stream",
     "text": [
      "*** 8792180#Park#2021_12_07#10_13_34 DOESN'T HAVE FULL FILE! ***\n"
     ]
    },
    {
     "name": "stderr",
     "output_type": "stream",
     "text": [
      " 41%|████      | 5198/12760 [12:13<20:53,  6.03it/s]"
     ]
    },
    {
     "name": "stdout",
     "output_type": "stream",
     "text": [
      "*** 10391982#SONG #2021_12_13#13_35_21 DOESN'T HAVE FULL FILE! ***\n"
     ]
    },
    {
     "name": "stderr",
     "output_type": "stream",
     "text": [
      " 42%|████▏     | 5383/12760 [12:38<17:12,  7.15it/s]"
     ]
    },
    {
     "name": "stdout",
     "output_type": "stream",
     "text": [
      "*** 2639420#Kim#2022_05_03#12_03_07 DOESN'T HAVE FULL FILE! ***\n"
     ]
    },
    {
     "name": "stderr",
     "output_type": "stream",
     "text": [
      " 44%|████▍     | 5616/12760 [13:09<15:30,  7.68it/s]"
     ]
    },
    {
     "name": "stdout",
     "output_type": "stream",
     "text": [
      "*** 6212546#Han#2021_12_03#13_33_14 DOESN'T HAVE FULL FILE! ***\n"
     ]
    },
    {
     "name": "stderr",
     "output_type": "stream",
     "text": [
      " 45%|████▍     | 5682/12760 [13:19<16:47,  7.03it/s]"
     ]
    },
    {
     "name": "stdout",
     "output_type": "stream",
     "text": [
      "*** 10236535#Ji#2020_08_06#11_23_30 DOESN'T HAVE FULL FILE! ***\n"
     ]
    },
    {
     "name": "stderr",
     "output_type": "stream",
     "text": [
      " 47%|████▋     | 5934/12760 [13:53<14:10,  8.03it/s]"
     ]
    },
    {
     "name": "stdout",
     "output_type": "stream",
     "text": [
      "*** 10538131#Kim#2022_07_29#09_04_49 DOESN'T HAVE FULL FILE! ***\n"
     ]
    },
    {
     "name": "stderr",
     "output_type": "stream",
     "text": [
      " 49%|████▉     | 6241/12760 [14:35<15:45,  6.90it/s]"
     ]
    },
    {
     "name": "stdout",
     "output_type": "stream",
     "text": [
      "*** 10504037#Martin#2022_05_02#15_01_24 DOESN'T HAVE FULL FILE! ***\n"
     ]
    },
    {
     "name": "stderr",
     "output_type": "stream",
     "text": [
      " 52%|█████▏    | 6651/12760 [15:31<13:23,  7.60it/s]"
     ]
    },
    {
     "name": "stdout",
     "output_type": "stream",
     "text": [
      "*** 10354167#KANG#2022_07_25#13_34_04 DOESN'T HAVE FULL FILE! ***\n"
     ]
    },
    {
     "name": "stderr",
     "output_type": "stream",
     "text": [
      " 53%|█████▎    | 6749/12760 [15:44<09:39, 10.37it/s]"
     ]
    },
    {
     "name": "stdout",
     "output_type": "stream",
     "text": [
      "*** 5250132#Kim#2022_03_24#08_30_57 DOESN'T HAVE FULL FILE! ***\n"
     ]
    },
    {
     "name": "stderr",
     "output_type": "stream",
     "text": [
      " 59%|█████▉    | 7522/12760 [17:33<11:01,  7.92it/s]"
     ]
    },
    {
     "name": "stdout",
     "output_type": "stream",
     "text": [
      "*** 10391982#SONG #2021_12_13#12_00_37 DOESN'T HAVE FULL FILE! ***\n"
     ]
    },
    {
     "name": "stderr",
     "output_type": "stream",
     "text": [
      " 60%|██████    | 7656/12760 [17:52<12:46,  6.66it/s]"
     ]
    },
    {
     "name": "stdout",
     "output_type": "stream",
     "text": [
      "*** 7785333#Kim#2022_12_20#10_33_46 DOESN'T HAVE FULL FILE! ***\n"
     ]
    },
    {
     "name": "stderr",
     "output_type": "stream",
     "text": [
      " 60%|██████    | 7702/12760 [17:59<14:30,  5.81it/s]"
     ]
    },
    {
     "name": "stdout",
     "output_type": "stream",
     "text": [
      "*** 5559161#Lee#2021_11_26#10_37_45 DOESN'T HAVE FULL FILE! ***\n"
     ]
    },
    {
     "name": "stderr",
     "output_type": "stream",
     "text": [
      " 63%|██████▎   | 8031/12760 [18:45<14:18,  5.51it/s]"
     ]
    },
    {
     "name": "stdout",
     "output_type": "stream",
     "text": [
      "*** 5481900#Kang#2022_09_14#14_05_53 DOESN'T HAVE FULL FILE! ***\n"
     ]
    },
    {
     "name": "stderr",
     "output_type": "stream",
     "text": [
      " 67%|██████▋   | 8596/12760 [20:04<07:57,  8.72it/s]"
     ]
    },
    {
     "name": "stdout",
     "output_type": "stream",
     "text": [
      "*** 10130542#Lee#2021_12_13#08_54_05 DOESN'T HAVE FULL FILE! ***\n"
     ]
    },
    {
     "name": "stderr",
     "output_type": "stream",
     "text": [
      " 71%|███████   | 9066/12760 [21:11<07:41,  8.00it/s]"
     ]
    },
    {
     "name": "stdout",
     "output_type": "stream",
     "text": [
      "*** 5461984#No#2021_04_14#08_01_53 DOESN'T HAVE FULL FILE! ***\n"
     ]
    },
    {
     "name": "stderr",
     "output_type": "stream",
     "text": [
      " 71%|███████▏  | 9098/12760 [21:15<05:36, 10.87it/s]"
     ]
    },
    {
     "name": "stdout",
     "output_type": "stream",
     "text": [
      "*** 10578221#Kim#2022_04_19#13_37_29 DOESN'T HAVE ENOUGH DATA POINT! ***\n"
     ]
    },
    {
     "name": "stderr",
     "output_type": "stream",
     "text": [
      " 75%|███████▌  | 9616/12760 [22:27<07:29,  6.99it/s]"
     ]
    },
    {
     "name": "stdout",
     "output_type": "stream",
     "text": [
      "*** 5043183#Lee#2021_05_03#08_12_48 DOESN'T HAVE FULL FILE! ***\n"
     ]
    },
    {
     "name": "stderr",
     "output_type": "stream",
     "text": [
      " 77%|███████▋  | 9767/12760 [22:47<06:03,  8.24it/s]"
     ]
    },
    {
     "name": "stdout",
     "output_type": "stream",
     "text": [
      "*** 10004854#Shin#2022_12_09#10_45_18 DOESN'T HAVE FULL FILE! ***\n"
     ]
    },
    {
     "name": "stderr",
     "output_type": "stream",
     "text": [
      " 77%|███████▋  | 9837/12760 [22:56<05:15,  9.26it/s]"
     ]
    },
    {
     "name": "stdout",
     "output_type": "stream",
     "text": [
      "*** 8824921#KIM#2021_10_26#13_41_21 DOESN'T HAVE ENOUGH DATA POINT! ***\n"
     ]
    },
    {
     "name": "stderr",
     "output_type": "stream",
     "text": [
      " 78%|███████▊  | 9947/12760 [23:11<04:33, 10.29it/s]"
     ]
    },
    {
     "name": "stdout",
     "output_type": "stream",
     "text": [
      "*** 10094199#Park#2022_06_15#11_11_42 DOESN'T HAVE FULL FILE! ***\n"
     ]
    },
    {
     "name": "stderr",
     "output_type": "stream",
     "text": [
      " 82%|████████▏ | 10513/12760 [24:30<05:14,  7.14it/s]"
     ]
    },
    {
     "name": "stdout",
     "output_type": "stream",
     "text": [
      "*** 8624487#Ahn#2021_08_24#12_21_04 DOESN'T HAVE FULL FILE! ***\n"
     ]
    },
    {
     "name": "stderr",
     "output_type": "stream",
     "text": [
      " 97%|█████████▋| 12381/12760 [28:49<00:57,  6.54it/s]"
     ]
    },
    {
     "name": "stdout",
     "output_type": "stream",
     "text": [
      "*** 7506844#Ahn#2021_06_30#13_31_38 DOESN'T HAVE FULL FILE! ***\n"
     ]
    },
    {
     "name": "stderr",
     "output_type": "stream",
     "text": [
      " 97%|█████████▋| 12409/12760 [28:52<00:33, 10.53it/s]"
     ]
    },
    {
     "name": "stdout",
     "output_type": "stream",
     "text": [
      "*** 7872852#Park#2021_06_16#16_34_54 DOESN'T HAVE FULL FILE! ***\n"
     ]
    },
    {
     "name": "stderr",
     "output_type": "stream",
     "text": [
      " 98%|█████████▊| 12476/12760 [29:02<00:33,  8.39it/s]"
     ]
    },
    {
     "name": "stdout",
     "output_type": "stream",
     "text": [
      "*** 10507406#Lee#2022_04_20#08_05_00 DOESN'T HAVE FULL FILE! ***\n"
     ]
    },
    {
     "name": "stderr",
     "output_type": "stream",
     "text": [
      " 98%|█████████▊| 12522/12760 [29:07<00:21, 10.88it/s]"
     ]
    },
    {
     "name": "stdout",
     "output_type": "stream",
     "text": [
      "*** 10326008#Ahn#2021_05_28#08_16_19 DOESN'T HAVE ENOUGH DATA POINT! ***\n"
     ]
    },
    {
     "name": "stderr",
     "output_type": "stream",
     "text": [
      "100%|██████████| 12760/12760 [29:40<00:00,  7.17it/s]\n"
     ]
    }
   ],
   "source": [
    "SAVE_PATH = './dataset/full/train'\n",
    "os.makedirs(SAVE_PATH, exist_ok=True)\n",
    "with ThreadPoolExecutor(max_workers=16) as executor:\n",
    "    results = list(tqdm(executor.map(process_file, full_train_files), total=len(full_train_files)))"
   ]
  },
  {
   "cell_type": "code",
   "execution_count": 30,
   "metadata": {},
   "outputs": [
    {
     "name": "stderr",
     "output_type": "stream",
     "text": [
      "100%|██████████| 12719/12719 [12:41<00:00, 16.71it/s] \n"
     ]
    }
   ],
   "source": [
    "def load_data(file_path):\n",
    "    data = np.load(file_path)\n",
    "    data = data['data']\n",
    "    return data.shape[0]\n",
    "\n",
    "files = [f\"./dataset/full/train/{file}\" for file in os.listdir(f'./dataset/full/train')]\n",
    "    \n",
    "with ThreadPoolExecutor(max_workers=32) as executor:\n",
    "    samples = list(tqdm(executor.map(load_data, files), total=len(files)))"
   ]
  },
  {
   "cell_type": "code",
   "execution_count": 44,
   "metadata": {},
   "outputs": [
    {
     "data": {
      "text/plain": [
       "3102.6"
      ]
     },
     "execution_count": 44,
     "metadata": {},
     "output_type": "execute_result"
    }
   ],
   "source": [
    "sum(samples)*10 / 3600"
   ]
  },
  {
   "cell_type": "code",
   "execution_count": 32,
   "metadata": {},
   "outputs": [
    {
     "data": {
      "image/png": "[encoded data removed]",
      "text/plain": [
       "<Figure size 432x288 with 1 Axes>"
      ]
     },
     "metadata": {
      "needs_background": "light"
     },
     "output_type": "display_data"
    }
   ],
   "source": [
    "import matplotlib.pyplot as plt\n",
    "\n",
    "plt.hist(samples)\n",
    "plt.show()"
   ]
  }
 ],
 "metadata": {
  "kernelspec": {
   "display_name": "pytorch_p38",
   "language": "python",
   "name": "python3"
  },
  "language_info": {
   "codemirror_mode": {
    "name": "ipython",
    "version": 3
   },
   "file_extension": ".py",
   "mimetype": "text/x-python",
   "name": "python",
   "nbconvert_exporter": "python",
   "pygments_lexer": "ipython3",
   "version": "3.8.12"
  },
  "orig_nbformat": 4
 },
 "nbformat": 4,
 "nbformat_minor": 2
}
